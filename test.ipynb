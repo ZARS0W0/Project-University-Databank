{
 "cells": [
  {
   "cell_type": "markdown",
   "id": "ec8a15f1",
   "metadata": {},
   "source": [
    "This is where it all begins"
   ]
  },
  {
   "cell_type": "code",
   "execution_count": null,
   "id": "2da99758",
   "metadata": {},
   "outputs": [],
   "source": [
    "\n"
   ]
  }
 ],
 "metadata": {
  "kernelspec": {
   "display_name": "Python 3",
   "language": "python",
   "name": "python3"
  },
  "language_info": {
   "codemirror_mode": {
    "name": "ipython",
    "version": 3
   },
   "file_extension": ".py",
   "mimetype": "text/x-python",
   "name": "python",
   "nbconvert_exporter": "python",
   "pygments_lexer": "ipython3",
   "version": "3.13.6"
  }
 },
 "nbformat": 4,
 "nbformat_minor": 5
}
