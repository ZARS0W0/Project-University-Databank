{
 "cells": [
  {
   "cell_type": "code",
   "execution_count": 2,
   "id": "bad02255",
   "metadata": {},
   "outputs": [
    {
     "ename": "OperationalError",
     "evalue": "near \"BorrowDate\": syntax error",
     "output_type": "error",
     "traceback": [
      "\u001b[31m---------------------------------------------------------------------------\u001b[39m",
      "\u001b[31mOperationalError\u001b[39m                          Traceback (most recent call last)",
      "\u001b[36mCell\u001b[39m\u001b[36m \u001b[39m\u001b[32mIn[2]\u001b[39m\u001b[32m, line 4\u001b[39m\n\u001b[32m      2\u001b[39m connection = sqlite3.connect(\u001b[33m'\u001b[39m\u001b[33mruhantest1.db\u001b[39m\u001b[33m'\u001b[39m)\n\u001b[32m      3\u001b[39m cursor = connection.cursor()\n\u001b[32m----> \u001b[39m\u001b[32m4\u001b[39m \u001b[43mcursor\u001b[49m\u001b[43m.\u001b[49m\u001b[43mexecute\u001b[49m\u001b[43m(\u001b[49m\u001b[33;43m'''\u001b[39;49m\n\u001b[32m      5\u001b[39m \u001b[33;43mCREATE TABLE IF NOT EXISTS borrowingRecords(\u001b[39;49m\n\u001b[32m      6\u001b[39m \u001b[33;43m    RecordID INTEGER PRIMARY KEY,\u001b[39;49m\n\u001b[32m      7\u001b[39m \u001b[33;43m    BookID INTEGER NOT NULL,FOREIGN KEY (BookID) REFERENCES books (BookID),\u001b[39;49m\n\u001b[32m      8\u001b[39m \u001b[33;43m    BorrowDate DATE NOT NULL DEFAULT (DATE(\u001b[39;49m\u001b[33;43m'\u001b[39;49m\u001b[33;43mnow\u001b[39;49m\u001b[33;43m'\u001b[39;49m\u001b[33;43m)),\u001b[39;49m\n\u001b[32m      9\u001b[39m \u001b[33;43m    DueDate DATE,\u001b[39;49m\n\u001b[32m     10\u001b[39m \u001b[33;43m    ReturnDate DATE,\u001b[39;49m\n\u001b[32m     11\u001b[39m \u001b[33;43m    StudentID INTEGER NOT NULL, FOREIGN KEY (StudentID) REFERENCES students(StudentID)\u001b[39;49m\n\u001b[32m     12\u001b[39m \n\u001b[32m     13\u001b[39m \u001b[33;43m)\u001b[39;49m\u001b[33;43m'''\u001b[39;49m\u001b[43m)\u001b[49m\n\u001b[32m     15\u001b[39m cursor.execute(\u001b[33m'''\u001b[39m\n\u001b[32m     16\u001b[39m \u001b[33m CREATE TABLE IF NOT EXISTS books(\u001b[39m\n\u001b[32m     17\u001b[39m \u001b[33m BookID INTEGER PRIMARY KEY,\u001b[39m\n\u001b[32m   (...)\u001b[39m\u001b[32m     24\u001b[39m \u001b[33m )\u001b[39m\n\u001b[32m     25\u001b[39m \u001b[33m'''\u001b[39m)\n\u001b[32m     28\u001b[39m cursor.execute( \u001b[33m'''\u001b[39m\n\u001b[32m     29\u001b[39m \u001b[33m    CREATE TABLE IF NOT EXISTS cafeteria(\u001b[39m\n\u001b[32m     30\u001b[39m \u001b[33m    CafeteriaID INTEGER PRIMARY KEY,\u001b[39m\n\u001b[32m   (...)\u001b[39m\u001b[32m     35\u001b[39m \u001b[33m'''\u001b[39m\n\u001b[32m     36\u001b[39m )\n",
      "\u001b[31mOperationalError\u001b[39m: near \"BorrowDate\": syntax error"
     ]
    }
   ],
   "source": [
    "import sqlite3\n",
    "connection = sqlite3.connect('ruhantest.db')\n",
    "cursor = connection.cursor()\n",
    "cursor.execute('''\n",
    "CREATE TABLE IF NOT EXISTS borrowingRecords(\n",
    "    RecordID INTEGER PRIMARY KEY,\n",
    "    BookID INTEGER NOT NULL,FOREIGN KEY (BookID) REFERENCES books (BookID),\n",
    "    BorrowDate DATE NOT NULL DEFAULT (DATE('now')),\n",
    "    DueDate DATE NOT NULL,\n",
    "    ReturnDate DATE NOT NULL,\n",
    "    StudentID INTEGER NOT NULL, FOREIGN KEY (StudentID) REFERENCES students(StudentID)\n",
    "\n",
    ")''')\n",
    "\n",
    "cursor.execute('''\n",
    " CREATE TABLE IF NOT EXISTS books(\n",
    " BookID INTEGER PRIMARY KEY,\n",
    " Title TEXT NOT NULL,\n",
    " Author TEXT NOT NULL,\n",
    " ISBN TEXT NOT NULL,\n",
    " PublicationYear INTEGER NOT NULL,\n",
    " LibraryID INTEGER NOT NULL,FOREIGN KEY (LibraryID) REFERENCES libraires(LibraryID),\n",
    " Status TEXT NOT NULL\n",
    " )\n",
    "''')\n",
    "\n",
    "\n",
    "cursor.execute( '''\n",
    "    CREATE TABLE IF NOT EXISTS cafeteria(\n",
    "    CafeteriaID INTEGER PRIMARY KEY,\n",
    "    CafeteriaName TEXT NOT NULL,\n",
    "    Location TEXT NOT NULL,\n",
    "    OperatingHours TEXT NOT NULL\n",
    "    )\n",
    "'''\n",
    ")\n",
    "cursor.execute('''\n",
    "    CREATE TABLE IF NOT EXISTS menuItems(\n",
    "    ItemID INTEGER PRIMARY KEY,\n",
    "    ItemName TEXT NOT NULL,\n",
    "    CafeteriaID INTEGER NOT NULL,FOREIGN KEY (CafeteriaID) REFERENCES cafeteria(CafeteriaID),\n",
    "    Price DECIMAL(10, 2) NOT NULL,\n",
    "    Description TEXT NOT NULL\n",
    "    )\n",
    "'''\n",
    ")"
   ]
  }
 ],
 "metadata": {
  "kernelspec": {
   "display_name": "Python 3",
   "language": "python",
   "name": "python3"
  },
  "language_info": {
   "codemirror_mode": {
    "name": "ipython",
    "version": 3
   },
   "file_extension": ".py",
   "mimetype": "text/x-python",
   "name": "python",
   "nbconvert_exporter": "python",
   "pygments_lexer": "ipython3",
   "version": "3.13.7"
  }
 },
 "nbformat": 4,
 "nbformat_minor": 5
}
