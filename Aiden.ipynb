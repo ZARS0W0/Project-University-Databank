{
 "cells": [
  {
   "cell_type": "code",
   "execution_count": 1,
   "id": "94bed0e0",
   "metadata": {},
   "outputs": [],
   "source": [
    "import sqlite3\n",
    "connection= sqlite3.connect('Aiden.db')\n",
    "cursor = connection.cursor()\n",
    "\n",
    "cursor.execute('''CREATE TABLE IF NOT EXISTS feePayments(\n",
    "               PaymentID INTEGER PRIMARY KEY AUTOINCREMENT,\n",
    "               AccountID TEXT NOT NULL,\n",
    "               PaymentDate DATE NOT NULL DEFAULT (DATE('now')),\n",
    "               AmountPaid REAL NOT NULL DEFAULT 0.00,\n",
    "               PaymentMethod TEXT NOT NULL,\n",
    "               FOREIGN KEY (AccountID) REFERENCES studentAccounts(AccountID)\n",
    "               )''')\n",
    "\n",
    "cursor.execute('''CREATE TABLE IF NOT EXISTS scholarships(\n",
    "               ScholarshipID INTEGER PRIMARY KEY AUTOINCREMENT,\n",
    "               ScholarshipName TEXT NOT NULL,\n",
    "               Amount REAL NOT NULL,\n",
    "               EligibilityCriteria TEXT NOT NULL)\n",
    "''')\n",
    "\n",
    "cursor.execute('''CREATE TABLE IF NOT EXISTS researchProjects(\n",
    "               ProjectID INTEGER PRIMARY KEY AUTOINCREMENT,\n",
    "               ProjectName TEXT NOT NULL,\n",
    "               DeptID INTEGER NOT NULL,\n",
    "               Budget REAL NOT NULL,\n",
    "               StartDate DATE NOT NULL DEFAULT (DATE('now')),\n",
    "               EndDate DATE,\n",
    "               PrincipalInvestigatorID INTEGER NOT NULL,\n",
    "               FOREIGN KEY (DeptID) REFERENCES departments(DeptID),\n",
    "               FOREIGN KEY (PrincipalInvestigatorID) REFERENCES professors(ProfessorID) \n",
    "               )\n",
    "               ''')\n",
    " \n",
    "cursor.execute('''CREATE TABLE IF NOT EXISTS publications(\n",
    "               PublicationID INTEGER PRIMARY KEY AUTOINCREMENT,\n",
    "               Title TEXT NOT NULL,\n",
    "               PublicationDate DATE NOT NULL DEFAULT (DATE('now')),\n",
    "               JournalName TEXT NOT NULL,\n",
    "               ProjectID INTEGER NOT NULL,\n",
    "               FOREIGN KEY (ProjectID) REFERENCES researchProjects(ProjectID)\n",
    "               )''')\n",
    "\n",
    "cursor.execute('''CREATE TABLE IF NOT EXISTS libraries(\n",
    "               LibraryID INTEGER PRIMARY KEY AUTOINCREMENT,\n",
    "               LibraryName TEXT NOT NULL,\n",
    "               Location TEXT NOT NULL,\n",
    "               OperatingHours TEXT NOT NULL)''')\n",
    "\n",
    "connection.commit()\n",
    "cursor.close()"
   ]
  }
 ],
 "metadata": {
  "kernelspec": {
   "display_name": "Python 3",
   "language": "python",
   "name": "python3"
  },
  "language_info": {
   "codemirror_mode": {
    "name": "ipython",
    "version": 3
   },
   "file_extension": ".py",
   "mimetype": "text/x-python",
   "name": "python",
   "nbconvert_exporter": "python",
   "pygments_lexer": "ipython3",
   "version": "3.12.0"
  }
 },
 "nbformat": 4,
 "nbformat_minor": 5
}
