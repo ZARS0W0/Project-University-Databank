{
 "cells": [
  {
   "cell_type": "code",
   "execution_count": null,
   "id": "94bed0e0",
   "metadata": {},
   "outputs": [],
   "source": [
    "import sqlite3\n"
   ]
  }
 ],
 "metadata": {
  "language_info": {
   "name": "python"
  }
 },
 "nbformat": 4,
 "nbformat_minor": 5
}
